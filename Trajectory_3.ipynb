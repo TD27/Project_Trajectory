{
 "cells": [
  {
   "cell_type": "markdown",
   "metadata": {},
   "source": [
    "# ---- PROJECT TRAJECTORY -----"
   ]
  },
  {
   "cell_type": "code",
   "execution_count": null,
   "metadata": {},
   "outputs": [],
   "source": [
    "import math\n",
    "import numpy as np\n",
    "import pandas as pd\n",
    "import matplotlib.pyplot as plt"
   ]
  },
  {
   "cell_type": "code",
   "execution_count": null,
   "metadata": {},
   "outputs": [],
   "source": [
    "barrier = [500, 1000, 50]\n",
    "time_range = [0, 50, 0.1]  # StartTime,EndTime,Step\n",
    "v = 60  # Speed of shot"
   ]
  },
  {
   "cell_type": "code",
   "execution_count": 1,
   "metadata": {},
   "outputs": [
    {
     "data": {
      "image/png": "[encoded data removed]",
      "text/plain": [
       "<Figure size 432x288 with 1 Axes>"
      ]
     },
     "metadata": {
      "needs_background": "light"
     },
     "output_type": "display_data"
    }
   ],
   "source": [
    "# Barrier definition\n",
    "line_1_x = np.full(barrier[2], barrier[0])\n",
    "line_1_y = np.arange(0, barrier[2], 1)\n",
    "line_2_x = np.arange(barrier[0], barrier[1], 1)\n",
    "line_2_y = np.full(barrier[1] - barrier[0], barrier[2])\n",
    "line_3_x = np.full(barrier[2], barrier[1])\n",
    "line_3_y = np.arange(0, barrier[2], 1)\n",
    "\n",
    "\n",
    "# Move of x\n",
    "def f_x(a, c, t):\n",
    "    x = a * t + c\n",
    "    return x\n",
    "\n",
    "\n",
    "# Move of y\n",
    "def f_y(a, b, c, t):\n",
    "    y = a * t ** 2 + b * t + c\n",
    "    return y\n",
    "\n",
    "\n",
    "# Calculation of trajectory\n",
    "def trajectory(t1, a1, c1, a2, b2, c2, ground_hit, wall_hit, top_hit):  # ,x_start,y_start):\n",
    "    down = False  # default direction (gradient) is UP\n",
    "    x_val, y_val, grad_val = [0], [0], [0]\n",
    "    t = t1\n",
    "    while wall_hit == False and ground_hit == False and top_hit == False:  # it runs while do not hit \n",
    "#        the barrier or ground\n",
    "        x = f_x(a1, c1, t)  # calculation of x\n",
    "        y = f_y(a2, b2, c2, t)  # calculation of y\n",
    "        grad_y = y - y_val[-1]  # calculation of the y component of the gradient\n",
    "        v_y_calc = grad_y / time_range[2]  # calculation of the y component of a speed\n",
    "        x_val.append(x), y_val.append(y), grad_val.append(grad_y)\n",
    "\n",
    "        if grad_y < 0:\n",
    "            down = True  # direction of the trajectory is down\n",
    "        else:\n",
    "            down = False  # direction of the trajectory is up\n",
    "\n",
    "        if y < 0:  # hit of the ground\n",
    "            ground_hit = True\n",
    "            v_x_hit, v_y_hit = x, y\n",
    "            return x_val, y_val, grad_val, v_x_hit, v_y_hit, ground_hit, top_hit, grad_y, v_y_calc\n",
    "\n",
    "        if (x > barrier[0] and y < barrier[2]) and (x < barrier[1] and y < barrier[2]) and down:  # hit of the barrier\n",
    "            top_hit = True\n",
    "            v_x_hit, v_y_hit = x_val[-1], y_val[-1]\n",
    "            return x_val, y_val, grad_val, v_x_hit, v_y_hit, ground_hit, top_hit, grad_y, v_y_calc\n",
    "\n",
    "        t = t + time_step\n",
    "    return x_val, y_val, v_x_hit, v_y_hit, ground_hit\n",
    "\n",
    "\n"
   ]
  },
  {
   "cell_type": "code",
   "execution_count": null,
   "metadata": {},
   "outputs": [],
   "source": [
    "# PROGRAM\n",
    "\n",
    "# Variables init\n",
    "time_step = time_range[2]\n",
    "data_x, data_y = [], []\n",
    "final_data_x, final_data_y, final_grad = [], [], []\n",
    "ground_hit, wall_hit, top_hit = False, False, False\n",
    "\n",
    "#\n",
    "for angle in [60]:\n",
    "    t1 = time_range[0]\n",
    "    v_x, v_y = v * np.cos(angle * 2 * np.pi / 360), v * np.sin(angle * 2 * np.pi / 360)\n",
    "    tmp_x, tmp_y, tmp_grad = [], [], []\n",
    "    C1, C2 = 0, 0\n",
    "    x_start, y_start, v_x_hit, v_y_hit, grad_y = 0, 0, 0, 0, 0\n",
    "\n",
    "    while ground_hit == False and v_y > 0.5:\n",
    "        data_x, data_y, data_grad, v_x_hit, v_y_hit, ground_hit, top_hit, grad_y, v_y_calc = trajectory(t1, v_x, C1,\n",
    "                                                                                                        -1 / 2 * 10,\n",
    "                                                                                                        v_y, C2,\n",
    "                                                                                                        ground_hit,\n",
    "                                                                                                        wall_hit,\n",
    "                                                                                                        top_hit)  # ,v_x_hit,v_y_hit)\n",
    "\n",
    "        if ground_hit == True:\n",
    "            v_y = -v_y_calc * 0.85\n",
    "            C1 = v_x_hit\n",
    "            C2 = 0\n",
    "            ground_hit = False\n",
    "\n",
    "        if top_hit == True:\n",
    "            v_y = -v_y_calc * 0.85\n",
    "            C1 = v_x_hit\n",
    "            C2 = v_y_hit\n",
    "            top_hit = False\n",
    "\n",
    "        tmp_x, tmp_y, tmp_grad = tmp_x + data_x, tmp_y + data_y, tmp_grad + data_grad\n",
    "\n",
    "    final_data_x, final_data_y, final_grad = final_data_x + tmp_x, final_data_y + tmp_y, final_grad + tmp_grad\n",
    "\n",
    "plt.title('Graf')\n",
    "plt.plot(final_data_x, final_data_y)\n",
    "\n",
    "# print of the gradient vector - does not work plt.quiver([final_data_x], [final_data_y], [time_step], [final_grad],\n",
    "# angles='xy', scale_units='xy', scale=1,color=['y'])\n",
    "\n",
    "plt.plot(line_1_x, line_1_y, color='red', linewidth=3)\n",
    "plt.plot(line_2_x, line_2_y, color='red', linewidth=3)\n",
    "plt.plot(line_3_x, line_3_y, color='red', linewidth=3)\n",
    "plt.show()\n"
   ]
  }
 ],
 "metadata": {
  "celltoolbar": "Raw Cell Format",
  "kernelspec": {
   "display_name": "Python 3",
   "language": "python",
   "name": "python3"
  },
  "language_info": {
   "codemirror_mode": {
    "name": "ipython",
    "version": 3
   },
   "file_extension": ".py",
   "mimetype": "text/x-python",
   "name": "python",
   "nbconvert_exporter": "python",
   "pygments_lexer": "ipython3",
   "version": "3.8.5"
  }
 },
 "nbformat": 4,
 "nbformat_minor": 4
}
